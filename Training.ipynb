{
 "cells": [
  {
   "cell_type": "code",
   "execution_count": 1,
   "id": "cf483190-1c7b-43de-9ce2-6ad69ed864b1",
   "metadata": {},
   "outputs": [
    {
     "name": "stdout",
     "output_type": "stream",
     "text": [
      "H\n",
      "E\n",
      "O\n"
     ]
    }
   ],
   "source": [
    "from sklearn.preprocessing import LabelEncoder\n",
    "from sklearn.svm import SVC\n",
    "import numpy as np\n",
    "import pickle\n",
    "import os\n",
    "\n",
    "face_dataset_path = 'face_dataset'\n",
    "# Load preprocessed features and labels for face recognition\n",
    "face_features = np.load(os.path.join(face_dataset_path, 'features.npy'))\n",
    "face_labels = np.load(os.path.join(face_dataset_path, 'labels.npy'))\n",
    "\n",
    "# print('NaN in face features:', np.isnan(face_features).any())\n",
    "# print('Infinite in face features:', np.isinf(face_features).any())\n",
    "\n",
    "# Encode labels\n",
    "face_label_encoder = LabelEncoder()\n",
    "face_labels_encoder = face_label_encoder.fit_transform(face_labels)\n",
    "print(\"H\")\n",
    "\n",
    "# Train a classifier for face recognition\n",
    "face_classifier = SVC(kernel='linear', probability=False)\n",
    "face_classifier.fit(face_features, face_labels_encoder)\n",
    "print(\"E\")\n",
    "\n",
    "# Save the classifiers and label encoders\n",
    "with open('face_classifier.pkl', 'wb') as file:\n",
    "    pickle.dump((face_classifier, face_label_encoder), file)\n",
    "print(\"O\")\n"
   ]
  },
  {
   "cell_type": "code",
   "execution_count": null,
   "id": "50fcd43c-00fd-42c0-91dc-8e5f506a8b00",
   "metadata": {},
   "outputs": [],
   "source": []
  }
 ],
 "metadata": {
  "kernelspec": {
   "display_name": "Python 3 (ipykernel)",
   "language": "python",
   "name": "python3"
  },
  "language_info": {
   "codemirror_mode": {
    "name": "ipython",
    "version": 3
   },
   "file_extension": ".py",
   "mimetype": "text/x-python",
   "name": "python",
   "nbconvert_exporter": "python",
   "pygments_lexer": "ipython3",
   "version": "3.12.2"
  }
 },
 "nbformat": 4,
 "nbformat_minor": 5
}
